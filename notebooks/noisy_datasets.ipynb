{
 "cells": [
  {
   "cell_type": "code",
   "execution_count": 1,
   "id": "31a3f107",
   "metadata": {},
   "outputs": [
    {
     "name": "stderr",
     "output_type": "stream",
     "text": [
      "/projects/kani-lab/user/gangwar2/.miniconda3/envs/nl4opt-ner/lib/python3.9/site-packages/tqdm/auto.py:22: TqdmWarning: IProgress not found. Please update jupyter and ipywidgets. See https://ipywidgets.readthedocs.io/en/stable/user_install.html\n",
      "  from .autonotebook import tqdm as notebook_tqdm\n"
     ]
    }
   ],
   "source": [
    "import sys\n",
    "sys.path.append(\"../../nl4opt-subtask1-baseline/baseline/\")\n",
    "\n",
    "from utils.metric import SpanF1\n",
    "import json"
   ]
  },
  {
   "cell_type": "code",
   "execution_count": 2,
   "id": "ecbfca98",
   "metadata": {},
   "outputs": [],
   "source": [
    "def read_spans(dataset):\n",
    "    with open(dataset) as f:\n",
    "        examples = [json.loads(line) for line in f]\n",
    "        \n",
    "    spans_dict = {}\n",
    "    \n",
    "    for example in examples:\n",
    "        assert len(example) == 1\n",
    "        key = next(iter(example.keys()))\n",
    "        spans = {}\n",
    "        for span in example[key][\"spans\"]:\n",
    "            spans[(span[\"start\"], span[\"end\"])] = span[\"label\"]\n",
    "        spans_dict[key] = spans\n",
    "        \n",
    "    return spans_dict\n",
    "\n",
    "\n",
    "def compare_named_entity_spans(dataset1, dataset2):\n",
    "    spans_1 = read_spans(dataset1)\n",
    "    spans_2 = read_spans(dataset2)\n",
    "    \n",
    "    assert set(spans_1.keys()) == set(spans_2.keys()), f\"Spans dict mismatch\"\n",
    "    \n",
    "    print(f\"Number of examples: {len(spans_1)}\")\n",
    "    \n",
    "    keys = spans_1.keys()\n",
    "    span_f1 = SpanF1()\n",
    "    \n",
    "    for key in keys:\n",
    "        span_f1([spans_1[key]], [spans_2[key]])\n",
    "        \n",
    "    metric = span_f1.get_metric(reset = True)\n",
    "    return metric[\"micro@F1\"]\n",
    "\n",
    "\n",
    "def print_problem_description(dataset, example_id):\n",
    "    example = None\n",
    "    with open(dataset) as f:\n",
    "        for line in f:\n",
    "            line = json.loads(line)\n",
    "            if example_id in line:\n",
    "                example = line[example_id]\n",
    "                break\n",
    "    assert example is not None\n",
    "    \n",
    "    start, end, label = [], [], {}\n",
    "    for span in example[\"spans\"]:\n",
    "        start.append(span[\"start\"])\n",
    "        end.append(span[\"end\"] - 1)\n",
    "        label[span[\"start\"]] = span[\"label\"]\n",
    "    \n",
    "    output = \"\"\n",
    "    for idx, char in enumerate(example[\"document\"]):\n",
    "        if idx in start:\n",
    "            output += \"\\colorbox{\" + label[idx].replace(\"_\", \"\") + \"}{\\strut {\\tiny \\textsc{\" + label[idx].lower().replace(\"_\", \"\\_\") + \"}} \"\n",
    "            \n",
    "        output += char\n",
    "        \n",
    "        if idx in end:\n",
    "            output += \"}\"\n",
    "            \n",
    "    return output"
   ]
  },
  {
   "cell_type": "markdown",
   "id": "ae2ca75b",
   "metadata": {},
   "source": [
    "## p = 0.2"
   ]
  },
  {
   "cell_type": "code",
   "execution_count": 3,
   "id": "0ebca8a5",
   "metadata": {
    "scrolled": false
   },
   "outputs": [
    {
     "name": "stdout",
     "output_type": "stream",
     "text": [
      "Number of examples: 713\n"
     ]
    },
    {
     "data": {
      "text/plain": [
       "0.8355"
      ]
     },
     "execution_count": 3,
     "metadata": {},
     "output_type": "execute_result"
    }
   ],
   "source": [
    "f1 = compare_named_entity_spans(\"../data/train.jsonl\", \"../data/train_noisy.jsonl\")\n",
    "round(f1, 4)"
   ]
  },
  {
   "cell_type": "code",
   "execution_count": 4,
   "id": "7e093dac",
   "metadata": {},
   "outputs": [
    {
     "name": "stdout",
     "output_type": "stream",
     "text": [
      "Number of examples: 99\n"
     ]
    },
    {
     "data": {
      "text/plain": [
       "0.8397"
      ]
     },
     "execution_count": 4,
     "metadata": {},
     "output_type": "execute_result"
    }
   ],
   "source": [
    "f1 = compare_named_entity_spans(\"../data/dev.jsonl\", \"../data/dev_noisy.jsonl\")\n",
    "round(f1, 4)"
   ]
  },
  {
   "cell_type": "code",
   "execution_count": 5,
   "id": "1b49eeb9",
   "metadata": {
    "scrolled": true
   },
   "outputs": [
    {
     "name": "stdout",
     "output_type": "stream",
     "text": [
      "Number of examples: 289\n"
     ]
    },
    {
     "data": {
      "text/plain": [
       "0.8348"
      ]
     },
     "execution_count": 5,
     "metadata": {},
     "output_type": "execute_result"
    }
   ],
   "source": [
    "f1 = compare_named_entity_spans(\"../data/test.jsonl\", \"../data/test_noisy.jsonl\")\n",
    "round(f1, 4)"
   ]
  },
  {
   "cell_type": "code",
   "execution_count": 6,
   "id": "aab70a9f",
   "metadata": {},
   "outputs": [
    {
     "data": {
      "text/plain": [
       "'A berry picker must pick at least \\\\colorbox{LIMIT}{\\\\strut {\\tiny \\textsc{limit}} 3000} strawberries and \\\\colorbox{LIMIT}{\\\\strut {\\tiny \\textsc{limit}} 15000} raspberries. He visits two farms. For each \\\\colorbox{OBJNAME}{\\\\strut {\\tiny \\textsc{obj\\\\_name}} hour} at \\\\colorbox{VAR}{\\\\strut {\\tiny \\textsc{var}} farm 1} he spends, he can pick \\\\colorbox{PARAM}{\\\\strut {\\tiny \\textsc{param}} 50} strawberries and \\\\colorbox{PARAM}{\\\\strut {\\tiny \\textsc{param}} 300} raspberries. For each \\\\colorbox{OBJNAME}{\\\\strut {\\tiny \\textsc{obj\\\\_name}} hour} at \\\\colorbox{VAR}{\\\\strut {\\tiny \\textsc{var}} farm 2} he spends, he can catch \\\\colorbox{PARAM}{\\\\strut {\\tiny \\textsc{param}} 70} strawberries and \\\\colorbox{PARAM}{\\\\strut {\\tiny \\textsc{param}} 200} raspberries. How many \\\\colorbox{OBJNAME}{\\\\strut {\\tiny \\textsc{obj\\\\_name}} hours} should he spend at each farm to \\\\colorbox{OBJDIR}{\\\\strut {\\tiny \\textsc{obj\\\\_dir}} minimize} the \\\\colorbox{OBJNAME}{\\\\strut {\\tiny \\textsc{obj\\\\_name}} amount of time} he spends at both farms?'"
      ]
     },
     "execution_count": 6,
     "metadata": {},
     "output_type": "execute_result"
    }
   ],
   "source": [
    "print_problem_description(\"../data/train_noisy.jsonl\", \"-707305018\")"
   ]
  },
  {
   "cell_type": "markdown",
   "id": "d2755b33",
   "metadata": {},
   "source": [
    "## p = 0.5"
   ]
  },
  {
   "cell_type": "code",
   "execution_count": 7,
   "id": "aa78c39a",
   "metadata": {},
   "outputs": [
    {
     "ename": "FileNotFoundError",
     "evalue": "[Errno 2] No such file or directory: '../data/train_noisy_p0.5_1.jsonl'",
     "output_type": "error",
     "traceback": [
      "\u001b[0;31m---------------------------------------------------------------------------\u001b[0m",
      "\u001b[0;31mFileNotFoundError\u001b[0m                         Traceback (most recent call last)",
      "Cell \u001b[0;32mIn[7], line 1\u001b[0m\n\u001b[0;32m----> 1\u001b[0m f1 \u001b[38;5;241m=\u001b[39m \u001b[43mcompare_named_entity_spans\u001b[49m\u001b[43m(\u001b[49m\u001b[38;5;124;43m\"\u001b[39;49m\u001b[38;5;124;43m../data/train.jsonl\u001b[39;49m\u001b[38;5;124;43m\"\u001b[39;49m\u001b[43m,\u001b[49m\u001b[43m \u001b[49m\u001b[38;5;124;43m\"\u001b[39;49m\u001b[38;5;124;43m../data/train_noisy_p0.5_1.jsonl\u001b[39;49m\u001b[38;5;124;43m\"\u001b[39;49m\u001b[43m)\u001b[49m\n\u001b[1;32m      2\u001b[0m \u001b[38;5;28mround\u001b[39m(f1, \u001b[38;5;241m4\u001b[39m)\n",
      "Cell \u001b[0;32mIn[2], line 20\u001b[0m, in \u001b[0;36mcompare_named_entity_spans\u001b[0;34m(dataset1, dataset2)\u001b[0m\n\u001b[1;32m     18\u001b[0m \u001b[38;5;28;01mdef\u001b[39;00m \u001b[38;5;21mcompare_named_entity_spans\u001b[39m(dataset1, dataset2):\n\u001b[1;32m     19\u001b[0m     spans_1 \u001b[38;5;241m=\u001b[39m read_spans(dataset1)\n\u001b[0;32m---> 20\u001b[0m     spans_2 \u001b[38;5;241m=\u001b[39m \u001b[43mread_spans\u001b[49m\u001b[43m(\u001b[49m\u001b[43mdataset2\u001b[49m\u001b[43m)\u001b[49m\n\u001b[1;32m     22\u001b[0m     \u001b[38;5;28;01massert\u001b[39;00m \u001b[38;5;28mset\u001b[39m(spans_1\u001b[38;5;241m.\u001b[39mkeys()) \u001b[38;5;241m==\u001b[39m \u001b[38;5;28mset\u001b[39m(spans_2\u001b[38;5;241m.\u001b[39mkeys()), \u001b[38;5;124mf\u001b[39m\u001b[38;5;124m\"\u001b[39m\u001b[38;5;124mSpans dict mismatch\u001b[39m\u001b[38;5;124m\"\u001b[39m\n\u001b[1;32m     24\u001b[0m     \u001b[38;5;28mprint\u001b[39m(\u001b[38;5;124mf\u001b[39m\u001b[38;5;124m\"\u001b[39m\u001b[38;5;124mNumber of examples: \u001b[39m\u001b[38;5;132;01m{\u001b[39;00m\u001b[38;5;28mlen\u001b[39m(spans_1)\u001b[38;5;132;01m}\u001b[39;00m\u001b[38;5;124m\"\u001b[39m)\n",
      "Cell \u001b[0;32mIn[2], line 2\u001b[0m, in \u001b[0;36mread_spans\u001b[0;34m(dataset)\u001b[0m\n\u001b[1;32m      1\u001b[0m \u001b[38;5;28;01mdef\u001b[39;00m \u001b[38;5;21mread_spans\u001b[39m(dataset):\n\u001b[0;32m----> 2\u001b[0m     \u001b[38;5;28;01mwith\u001b[39;00m \u001b[38;5;28;43mopen\u001b[39;49m\u001b[43m(\u001b[49m\u001b[43mdataset\u001b[49m\u001b[43m)\u001b[49m \u001b[38;5;28;01mas\u001b[39;00m f:\n\u001b[1;32m      3\u001b[0m         examples \u001b[38;5;241m=\u001b[39m [json\u001b[38;5;241m.\u001b[39mloads(line) \u001b[38;5;28;01mfor\u001b[39;00m line \u001b[38;5;129;01min\u001b[39;00m f]\n\u001b[1;32m      5\u001b[0m     spans_dict \u001b[38;5;241m=\u001b[39m {}\n",
      "File \u001b[0;32m/projects/kani-lab/user/gangwar2/.miniconda3/envs/nl4opt-ner/lib/python3.9/site-packages/IPython/core/interactiveshell.py:282\u001b[0m, in \u001b[0;36m_modified_open\u001b[0;34m(file, *args, **kwargs)\u001b[0m\n\u001b[1;32m    275\u001b[0m \u001b[38;5;28;01mif\u001b[39;00m file \u001b[38;5;129;01min\u001b[39;00m {\u001b[38;5;241m0\u001b[39m, \u001b[38;5;241m1\u001b[39m, \u001b[38;5;241m2\u001b[39m}:\n\u001b[1;32m    276\u001b[0m     \u001b[38;5;28;01mraise\u001b[39;00m \u001b[38;5;167;01mValueError\u001b[39;00m(\n\u001b[1;32m    277\u001b[0m         \u001b[38;5;124mf\u001b[39m\u001b[38;5;124m\"\u001b[39m\u001b[38;5;124mIPython won\u001b[39m\u001b[38;5;124m'\u001b[39m\u001b[38;5;124mt let you open fd=\u001b[39m\u001b[38;5;132;01m{\u001b[39;00mfile\u001b[38;5;132;01m}\u001b[39;00m\u001b[38;5;124m by default \u001b[39m\u001b[38;5;124m\"\u001b[39m\n\u001b[1;32m    278\u001b[0m         \u001b[38;5;124m\"\u001b[39m\u001b[38;5;124mas it is likely to crash IPython. If you know what you are doing, \u001b[39m\u001b[38;5;124m\"\u001b[39m\n\u001b[1;32m    279\u001b[0m         \u001b[38;5;124m\"\u001b[39m\u001b[38;5;124myou can use builtins\u001b[39m\u001b[38;5;124m'\u001b[39m\u001b[38;5;124m open.\u001b[39m\u001b[38;5;124m\"\u001b[39m\n\u001b[1;32m    280\u001b[0m     )\n\u001b[0;32m--> 282\u001b[0m \u001b[38;5;28;01mreturn\u001b[39;00m \u001b[43mio_open\u001b[49m\u001b[43m(\u001b[49m\u001b[43mfile\u001b[49m\u001b[43m,\u001b[49m\u001b[43m \u001b[49m\u001b[38;5;241;43m*\u001b[39;49m\u001b[43margs\u001b[49m\u001b[43m,\u001b[49m\u001b[43m \u001b[49m\u001b[38;5;241;43m*\u001b[39;49m\u001b[38;5;241;43m*\u001b[39;49m\u001b[43mkwargs\u001b[49m\u001b[43m)\u001b[49m\n",
      "\u001b[0;31mFileNotFoundError\u001b[0m: [Errno 2] No such file or directory: '../data/train_noisy_p0.5_1.jsonl'"
     ]
    }
   ],
   "source": [
    "f1 = compare_named_entity_spans(\"../data/train.jsonl\", \"../data/train_noisy_p0.5_1.jsonl\")\n",
    "round(f1, 4)"
   ]
  },
  {
   "cell_type": "code",
   "execution_count": null,
   "id": "bf73bbf2",
   "metadata": {},
   "outputs": [],
   "source": [
    "f1 = compare_named_entity_spans(\"../data/dev.jsonl\", \"../data/dev_noisy_p0.5.jsonl\")\n",
    "round(f1, 4)"
   ]
  },
  {
   "cell_type": "code",
   "execution_count": null,
   "id": "1f9030d6",
   "metadata": {},
   "outputs": [],
   "source": [
    "f1 = compare_named_entity_spans(\"../data/test.jsonl\", \"../data/test_noisy_p0.5.jsonl\")\n",
    "round(f1, 4)"
   ]
  },
  {
   "cell_type": "code",
   "execution_count": null,
   "id": "897ccbc6",
   "metadata": {},
   "outputs": [],
   "source": [
    "print_problem_description(\"../data/train.jsonl\", \"-707305018\")"
   ]
  },
  {
   "cell_type": "code",
   "execution_count": null,
   "id": "2b86faad",
   "metadata": {},
   "outputs": [],
   "source": [
    "print_problem_description(\"../data/train_noisy_p0.5.jsonl\", \"-707305018\")"
   ]
  }
 ],
 "metadata": {
  "kernelspec": {
   "display_name": "Python 3 (ipykernel)",
   "language": "python",
   "name": "python3"
  },
  "language_info": {
   "codemirror_mode": {
    "name": "ipython",
    "version": 3
   },
   "file_extension": ".py",
   "mimetype": "text/x-python",
   "name": "python",
   "nbconvert_exporter": "python",
   "pygments_lexer": "ipython3",
   "version": "3.9.12"
  }
 },
 "nbformat": 4,
 "nbformat_minor": 5
}
