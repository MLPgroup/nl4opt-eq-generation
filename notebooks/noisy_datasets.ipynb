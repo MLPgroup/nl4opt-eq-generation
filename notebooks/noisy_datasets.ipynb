{
 "cells": [
  {
   "cell_type": "code",
   "execution_count": 1,
   "id": "31a3f107",
   "metadata": {},
   "outputs": [
    {
     "name": "stderr",
     "output_type": "stream",
     "text": [
      "/projects/kani-lab/user/gangwar2/.miniconda3/envs/nl4opt-ner/lib/python3.9/site-packages/tqdm/auto.py:22: TqdmWarning: IProgress not found. Please update jupyter and ipywidgets. See https://ipywidgets.readthedocs.io/en/stable/user_install.html\n",
      "  from .autonotebook import tqdm as notebook_tqdm\n"
     ]
    }
   ],
   "source": [
    "import sys\n",
    "sys.path.append(\"../../nl4opt-subtask1-baseline/baseline/\")\n",
    "\n",
    "from utils.metric import SpanF1\n",
    "import json"
   ]
  },
  {
   "cell_type": "code",
   "execution_count": 2,
   "id": "ecbfca98",
   "metadata": {},
   "outputs": [],
   "source": [
    "def read_spans(dataset):\n",
    "    with open(dataset) as f:\n",
    "        examples = [json.loads(line) for line in f]\n",
    "        \n",
    "    spans_dict = {}\n",
    "    \n",
    "    for example in examples:\n",
    "        assert len(example) == 1\n",
    "        key = next(iter(example.keys()))\n",
    "        spans = {}\n",
    "        for span in example[key][\"spans\"]:\n",
    "            spans[(span[\"start\"], span[\"end\"])] = span[\"label\"]\n",
    "        spans_dict[key] = spans\n",
    "        \n",
    "    return spans_dict\n",
    "\n",
    "\n",
    "def compare_named_entity_spans(dataset1, dataset2):\n",
    "    spans_1 = read_spans(dataset1)\n",
    "    spans_2 = read_spans(dataset2)\n",
    "    \n",
    "    assert set(spans_1.keys()) == set(spans_2.keys()), f\"Spans dict mismatch\"\n",
    "    \n",
    "    print(f\"Number of examples: {len(spans_1)}\")\n",
    "    \n",
    "    keys = spans_1.keys()\n",
    "    span_f1 = SpanF1()\n",
    "    \n",
    "    for key in keys:\n",
    "        span_f1([spans_1[key]], [spans_2[key]])\n",
    "        \n",
    "    metric = span_f1.get_metric(reset = True)\n",
    "    return metric[\"micro@F1\"]\n",
    "\n",
    "\n",
    "def print_problem_description(dataset, example_id):\n",
    "    example = None\n",
    "    with open(dataset) as f:\n",
    "        for line in f:\n",
    "            line = json.loads(line)\n",
    "            if example_id in line:\n",
    "                example = line[example_id]\n",
    "                break\n",
    "    assert example is not None\n",
    "    \n",
    "    start, end, label = [], [], {}\n",
    "    for span in example[\"spans\"]:\n",
    "        start.append(span[\"start\"])\n",
    "        end.append(span[\"end\"] - 1)\n",
    "        label[span[\"start\"]] = span[\"label\"]\n",
    "    \n",
    "    output = \"\"\n",
    "    for idx, char in enumerate(example[\"document\"]):\n",
    "        if idx in start:\n",
    "            output += \"\\colorbox{\" + label[idx].replace(\"_\", \"\") + \"}{\\strut {\\tiny \\textsc{\" + label[idx].lower().replace(\"_\", \"\\_\") + \"}} \"\n",
    "            \n",
    "        output += char\n",
    "        \n",
    "        if idx in end:\n",
    "            output += \"}\"\n",
    "            \n",
    "    return output"
   ]
  },
  {
   "cell_type": "markdown",
   "id": "ae2ca75b",
   "metadata": {},
   "source": [
    "## p = 0.2"
   ]
  },
  {
   "cell_type": "code",
   "execution_count": 3,
   "id": "0ebca8a5",
   "metadata": {
    "scrolled": false
   },
   "outputs": [
    {
     "name": "stdout",
     "output_type": "stream",
     "text": [
      "Number of examples: 713\n"
     ]
    },
    {
     "data": {
      "text/plain": [
       "0.8333"
      ]
     },
     "execution_count": 3,
     "metadata": {},
     "output_type": "execute_result"
    }
   ],
   "source": [
    "f1 = compare_named_entity_spans(\"../data/train.jsonl\", \"../data/train_noisy_p0.2.jsonl\")\n",
    "round(f1, 4)"
   ]
  },
  {
   "cell_type": "code",
   "execution_count": 4,
   "id": "7e093dac",
   "metadata": {},
   "outputs": [
    {
     "name": "stdout",
     "output_type": "stream",
     "text": [
      "Number of examples: 99\n"
     ]
    },
    {
     "data": {
      "text/plain": [
       "0.8397"
      ]
     },
     "execution_count": 4,
     "metadata": {},
     "output_type": "execute_result"
    }
   ],
   "source": [
    "f1 = compare_named_entity_spans(\"../data/dev.jsonl\", \"../data/dev_noisy_p0.2.jsonl\")\n",
    "round(f1, 4)"
   ]
  },
  {
   "cell_type": "code",
   "execution_count": 5,
   "id": "1b49eeb9",
   "metadata": {
    "scrolled": true
   },
   "outputs": [
    {
     "name": "stdout",
     "output_type": "stream",
     "text": [
      "Number of examples: 289\n"
     ]
    },
    {
     "data": {
      "text/plain": [
       "0.8353"
      ]
     },
     "execution_count": 5,
     "metadata": {},
     "output_type": "execute_result"
    }
   ],
   "source": [
    "f1 = compare_named_entity_spans(\"../data/test.jsonl\", \"../data/test_noisy_p0.2.jsonl\")\n",
    "round(f1, 4)"
   ]
  },
  {
   "cell_type": "code",
   "execution_count": 6,
   "id": "aab70a9f",
   "metadata": {},
   "outputs": [
    {
     "data": {
      "text/plain": [
       "'A berry picker must pick at least \\\\colorbox{LIMIT}{\\\\strut {\\tiny \\textsc{limit}} 3000} strawberries and \\\\colorbox{LIMIT}{\\\\strut {\\tiny \\textsc{limit}} 15000} raspberries. He visits two farms. For each \\\\colorbox{OBJNAME}{\\\\strut {\\tiny \\textsc{obj\\\\_name}} hour} at \\\\colorbox{VAR}{\\\\strut {\\tiny \\textsc{var}} farm 1} he spends, he can pick \\\\colorbox{PARAM}{\\\\strut {\\tiny \\textsc{param}} 50} strawberries and \\\\colorbox{PARAM}{\\\\strut {\\tiny \\textsc{param}} 300} raspberries. For each \\\\colorbox{OBJNAME}{\\\\strut {\\tiny \\textsc{obj\\\\_name}} hour} at \\\\colorbox{VAR}{\\\\strut {\\tiny \\textsc{var}} farm 2} he spends, he can catch \\\\colorbox{PARAM}{\\\\strut {\\tiny \\textsc{param}} 70} strawberries and \\\\colorbox{PARAM}{\\\\strut {\\tiny \\textsc{param}} 200} raspberries. How many \\\\colorbox{OBJNAME}{\\\\strut {\\tiny \\textsc{obj\\\\_name}} hours} should he spend at each farm to \\\\colorbox{OBJDIR}{\\\\strut {\\tiny \\textsc{obj\\\\_dir}} minimize} the \\\\colorbox{OBJNAME}{\\\\strut {\\tiny \\textsc{obj\\\\_name}} amount of time} he spends at both farms?'"
      ]
     },
     "execution_count": 6,
     "metadata": {},
     "output_type": "execute_result"
    }
   ],
   "source": [
    "print_problem_description(\"../data/train_noisy_p0.2.jsonl\", \"-707305018\")"
   ]
  },
  {
   "cell_type": "markdown",
   "id": "d2755b33",
   "metadata": {},
   "source": [
    "## p = 0.5"
   ]
  },
  {
   "cell_type": "code",
   "execution_count": 7,
   "id": "aa78c39a",
   "metadata": {},
   "outputs": [
    {
     "name": "stdout",
     "output_type": "stream",
     "text": [
      "Number of examples: 713\n"
     ]
    },
    {
     "data": {
      "text/plain": [
       "0.5783"
      ]
     },
     "execution_count": 7,
     "metadata": {},
     "output_type": "execute_result"
    }
   ],
   "source": [
    "f1 = compare_named_entity_spans(\"../data/train.jsonl\", \"../data/train_noisy_p0.5.jsonl\")\n",
    "round(f1, 4)"
   ]
  },
  {
   "cell_type": "code",
   "execution_count": 8,
   "id": "bf73bbf2",
   "metadata": {},
   "outputs": [
    {
     "name": "stdout",
     "output_type": "stream",
     "text": [
      "Number of examples: 99\n"
     ]
    },
    {
     "data": {
      "text/plain": [
       "0.5742"
      ]
     },
     "execution_count": 8,
     "metadata": {},
     "output_type": "execute_result"
    }
   ],
   "source": [
    "f1 = compare_named_entity_spans(\"../data/dev.jsonl\", \"../data/dev_noisy_p0.5.jsonl\")\n",
    "round(f1, 4)"
   ]
  },
  {
   "cell_type": "code",
   "execution_count": 9,
   "id": "1f9030d6",
   "metadata": {},
   "outputs": [
    {
     "name": "stdout",
     "output_type": "stream",
     "text": [
      "Number of examples: 289\n"
     ]
    },
    {
     "data": {
      "text/plain": [
       "0.5822"
      ]
     },
     "execution_count": 9,
     "metadata": {},
     "output_type": "execute_result"
    }
   ],
   "source": [
    "f1 = compare_named_entity_spans(\"../data/test.jsonl\", \"../data/test_noisy_p0.5.jsonl\")\n",
    "round(f1, 4)"
   ]
  },
  {
   "cell_type": "code",
   "execution_count": 10,
   "id": "2b86faad",
   "metadata": {},
   "outputs": [
    {
     "data": {
      "text/plain": [
       "'A berry picker must pick \\\\colorbox{CONSTDIR}{\\\\strut {\\tiny \\textsc{const\\\\_dir}} at least} \\\\colorbox{LIMIT}{\\\\strut {\\tiny \\textsc{limit}} 3000} strawberries and \\\\colorbox{LIMIT}{\\\\strut {\\tiny \\textsc{limit}} 15000} raspberries. He visits two farms. For each hour at \\\\colorbox{VAR}{\\\\strut {\\tiny \\textsc{var}} farm 1} he spends, \\\\colorbox{PARAM}{\\\\strut {\\tiny \\textsc{param}} he can} pick \\\\colorbox{PARAM}{\\\\strut {\\tiny \\textsc{param}} 50} strawberries and \\\\colorbox{PARAM}{\\\\strut {\\tiny \\textsc{param}} 300} raspberries. For each hour at farm 2 he spends, he can catch 70 strawberries and \\\\colorbox{PARAM}{\\\\strut {\\tiny \\textsc{param}} 200} raspberries. How many \\\\colorbox{OBJDIR}{\\\\strut {\\tiny \\textsc{obj\\\\_dir}} hours} should he spend at each farm to \\\\colorbox{OBJDIR}{\\\\strut {\\tiny \\textsc{obj\\\\_dir}} minimize} the \\\\colorbox{OBJNAME}{\\\\strut {\\tiny \\textsc{obj\\\\_name}} amount of time} he spends at both farms?'"
      ]
     },
     "execution_count": 10,
     "metadata": {},
     "output_type": "execute_result"
    }
   ],
   "source": [
    "print_problem_description(\"../data/train_noisy_p0.5.jsonl\", \"-707305018\")"
   ]
  },
  {
   "cell_type": "markdown",
   "id": "cf0a8e5c",
   "metadata": {},
   "source": [
    "## Predicted NER (One Epoch)"
   ]
  },
  {
   "cell_type": "code",
   "execution_count": 11,
   "id": "4bd49131",
   "metadata": {},
   "outputs": [
    {
     "name": "stdout",
     "output_type": "stream",
     "text": [
      "Number of examples: 713\n"
     ]
    },
    {
     "data": {
      "text/plain": [
       "0.6713"
      ]
     },
     "execution_count": 11,
     "metadata": {},
     "output_type": "execute_result"
    }
   ],
   "source": [
    "f1 = compare_named_entity_spans(\"../data/train.jsonl\", \"../data/train_predicted_ner.jsonl\")\n",
    "round(f1, 4)"
   ]
  },
  {
   "cell_type": "code",
   "execution_count": 12,
   "id": "658adbd5",
   "metadata": {},
   "outputs": [
    {
     "name": "stdout",
     "output_type": "stream",
     "text": [
      "Number of examples: 99\n"
     ]
    },
    {
     "data": {
      "text/plain": [
       "0.5931"
      ]
     },
     "execution_count": 12,
     "metadata": {},
     "output_type": "execute_result"
    }
   ],
   "source": [
    "f1 = compare_named_entity_spans(\"../data/dev.jsonl\", \"../data/dev_predicted_ner.jsonl\")\n",
    "round(f1, 4)"
   ]
  },
  {
   "cell_type": "code",
   "execution_count": 13,
   "id": "e88a86c3",
   "metadata": {},
   "outputs": [
    {
     "name": "stdout",
     "output_type": "stream",
     "text": [
      "Number of examples: 289\n"
     ]
    },
    {
     "data": {
      "text/plain": [
       "0.5961"
      ]
     },
     "execution_count": 13,
     "metadata": {},
     "output_type": "execute_result"
    }
   ],
   "source": [
    "f1 = compare_named_entity_spans(\"../data/test.jsonl\", \"../data/test_predicted_ner.jsonl\")\n",
    "round(f1, 4)"
   ]
  },
  {
   "cell_type": "markdown",
   "id": "84c413bf",
   "metadata": {},
   "source": [
    "## Predicted NER (Best)"
   ]
  },
  {
   "cell_type": "code",
   "execution_count": 14,
   "id": "72b0a340",
   "metadata": {},
   "outputs": [
    {
     "name": "stdout",
     "output_type": "stream",
     "text": [
      "Number of examples: 713\n"
     ]
    },
    {
     "data": {
      "text/plain": [
       "0.9886"
      ]
     },
     "execution_count": 14,
     "metadata": {},
     "output_type": "execute_result"
    }
   ],
   "source": [
    "f1 = compare_named_entity_spans(\"../data/train.jsonl\", \"../data/train_predicted_ner_best.jsonl\")\n",
    "round(f1, 4)"
   ]
  },
  {
   "cell_type": "code",
   "execution_count": 15,
   "id": "9771fcfb",
   "metadata": {},
   "outputs": [
    {
     "name": "stdout",
     "output_type": "stream",
     "text": [
      "Number of examples: 99\n"
     ]
    },
    {
     "data": {
      "text/plain": [
       "0.8934"
      ]
     },
     "execution_count": 15,
     "metadata": {},
     "output_type": "execute_result"
    }
   ],
   "source": [
    "f1 = compare_named_entity_spans(\"../data/dev.jsonl\", \"../data/dev_predicted_ner_best.jsonl\")\n",
    "round(f1, 4)"
   ]
  },
  {
   "cell_type": "code",
   "execution_count": 16,
   "id": "a69cfe0d",
   "metadata": {},
   "outputs": [
    {
     "name": "stdout",
     "output_type": "stream",
     "text": [
      "Number of examples: 289\n"
     ]
    },
    {
     "data": {
      "text/plain": [
       "0.914"
      ]
     },
     "execution_count": 16,
     "metadata": {},
     "output_type": "execute_result"
    }
   ],
   "source": [
    "f1 = compare_named_entity_spans(\"../data/test.jsonl\", \"../data/test_predicted_ner_best.jsonl\")\n",
    "round(f1, 4)"
   ]
  }
 ],
 "metadata": {
  "kernelspec": {
   "display_name": "Python 3 (ipykernel)",
   "language": "python",
   "name": "python3"
  },
  "language_info": {
   "codemirror_mode": {
    "name": "ipython",
    "version": 3
   },
   "file_extension": ".py",
   "mimetype": "text/x-python",
   "name": "python",
   "nbconvert_exporter": "python",
   "pygments_lexer": "ipython3",
   "version": "3.9.12"
  }
 },
 "nbformat": 4,
 "nbformat_minor": 5
}
